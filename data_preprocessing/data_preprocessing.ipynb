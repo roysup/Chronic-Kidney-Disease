{
  "cells": [
    {
      "cell_type": "markdown",
      "source": [
        "# Install Libraries"
      ],
      "metadata": {
        "id": "9k76odWHhC8A"
      }
    },
    {
      "cell_type": "code",
      "source": [
        "!pip install tensorflow pandas numpy sklearn\n",
        "!pip install pandas scikit-learn\n",
        "!pip install lime shap"
      ],
      "metadata": {
        "id": "XJa4EaIhhBfM"
      },
      "execution_count": null,
      "outputs": []
    },
    {
      "cell_type": "markdown",
      "source": [
        "# Import Libraries"
      ],
      "metadata": {
        "id": "QSrjt0jf8MFP"
      }
    },
    {
      "cell_type": "code",
      "source": [
        "import itertools\n",
        "import random\n",
        "import math\n",
        "from datetime import timedelta\n",
        "import matplotlib.pyplot as plt\n",
        "import numpy as np\n",
        "import pandas as pd\n",
        "import tensorflow as tf\n",
        "from sklearn.linear_model import LinearRegression\n",
        "from sklearn.metrics import accuracy_score, recall_score, roc_auc_score\n",
        "from sklearn.model_selection import train_test_split\n",
        "from sklearn.preprocessing import MinMaxScaler\n",
        "from tensorflow.keras.layers import Dense, LSTM, SimpleRNN\n",
        "from tensorflow.keras.metrics import AUC, FalseNegatives, FalsePositives, Precision, TrueNegatives, TruePositives\n",
        "from tensorflow.keras.models import Sequential\n",
        "from tensorflow.keras.preprocessing.sequence import pad_sequences"
      ],
      "metadata": {
        "id": "sqezloXF8hO9"
      },
      "execution_count": null,
      "outputs": []
    },
    {
      "cell_type": "markdown",
      "source": [
        "# Extract Raw Data"
      ],
      "metadata": {
        "id": "6CZTC-fh7qdF"
      }
    },
    {
      "cell_type": "code",
      "execution_count": null,
      "metadata": {
        "id": "FPoCpJI4KJYO"
      },
      "outputs": [],
      "source": [
        "from google.colab import drive\n",
        "drive.mount('/content/drive')"
      ]
    },
    {
      "cell_type": "code",
      "execution_count": null,
      "metadata": {
        "id": "eY1fyVSGGpq6"
      },
      "outputs": [],
      "source": [
        "file_path_AU_raw = '/content/drive/MyDrive/CKD/Finalised/data/raw/AU/eGFR 12-09-2023.xlsx'\n",
        "file_path_JP_raw = '/content/drive/MyDrive/CKD/Finalised/data/raw/JP/ROUTE_proteinuria_dataset.xlsx'"
      ]
    },
    {
      "cell_type": "markdown",
      "metadata": {
        "id": "z_0PDctksICZ"
      },
      "source": [
        "# Preprocess Australian (AU) Data"
      ]
    },
    {
      "cell_type": "markdown",
      "metadata": {
        "id": "zCMiwhBHzB1n"
      },
      "source": [
        "## 1) Applying Inclusion Criteria"
      ]
    },
    {
      "cell_type": "code",
      "execution_count": null,
      "metadata": {
        "id": "e9IQzZNuUeEF"
      },
      "outputs": [],
      "source": [
        "df = pd.read_excel(file_path_AU_raw)\n",
        "print(\"Total number of unique ids:\", len(df['ID'].unique()))\n",
        "df"
      ]
    },
    {
      "cell_type": "code",
      "source": [
        "df.isna().sum()"
      ],
      "metadata": {
        "id": "b48_rS5aeFRc"
      },
      "execution_count": null,
      "outputs": []
    },
    {
      "cell_type": "code",
      "execution_count": null,
      "metadata": {
        "id": "5WmO2cDeT8Y-"
      },
      "outputs": [],
      "source": [
        "df.dtypes"
      ]
    },
    {
      "cell_type": "code",
      "execution_count": null,
      "metadata": {
        "id": "6vXIwE0ZT_5c"
      },
      "outputs": [],
      "source": [
        "# Replace '> 90' with 91 and convert to integer\n",
        "print(set(df['eGFR']))\n",
        "\n",
        "df['eGFR'] = np.where(df['eGFR'].str.strip() == \"> 90\", 91, df['eGFR']).astype(int)\n",
        "\n",
        "print(\"Total number of unique ids:\", len(df['ID'].unique()))\n",
        "print(set(df['eGFR']))"
      ]
    },
    {
      "cell_type": "code",
      "execution_count": null,
      "metadata": {
        "id": "L9MBvVvoTjll"
      },
      "outputs": [],
      "source": [
        "# Filter in Age 18 and over\n",
        "df = df[df['AGE'] >= 18]\n",
        "df.reset_index(inplace=True, drop=True)\n",
        "print(\"Total number of unique ids:\", len(df['ID'].unique()))"
      ]
    },
    {
      "cell_type": "code",
      "execution_count": null,
      "metadata": {
        "id": "qTd_euVAP4_Z"
      },
      "outputs": [],
      "source": [
        "# Sort by date\n",
        "df.sort_values('COLLECTED', inplace=True)"
      ]
    },
    {
      "cell_type": "code",
      "execution_count": null,
      "metadata": {
        "id": "UcHSyzKCP5F-"
      },
      "outputs": [],
      "source": [
        "# Filter out patients with less than 3 eGFR measurements\n",
        "df = df[df.groupby('ID').ID.transform('count') > 2]\n",
        "df.reset_index(inplace=True, drop=True)\n",
        "print(\"Total number of unique ids:\", len(df['ID'].unique()))"
      ]
    },
    {
      "cell_type": "code",
      "execution_count": null,
      "metadata": {
        "id": "zFLKxDLvRn71"
      },
      "outputs": [],
      "source": [
        "# Filter to only include only those patients with the first reading between 15 (patient in a dialysis) and 59\n",
        "filter_1 = df.groupby('ID')['eGFR'].apply(lambda x: 15 <= x.iloc[0] <= 59) #logic is same as (first value >=15) and (first value <=59)\n",
        "df = df[df['ID'].map(filter_1)] # Applying filter\n",
        "df.reset_index(inplace=True, drop=True)\n",
        "print(\"Total number of unique ids:\", len(df['ID'].unique()))\n",
        "\n",
        "grouped = df.groupby('ID')['eGFR'].first()\n",
        "print(grouped)"
      ]
    },
    {
      "cell_type": "code",
      "execution_count": null,
      "metadata": {
        "id": "mZC1qP93GKeQ"
      },
      "outputs": [],
      "source": [
        "# Exclude patients who had two eGFR readings on the same day after their first eGFR reading < 15 (considered to be on dialysis)\n",
        "\n",
        "# Group the data by 'ID' and get the date when the first eGFR < 15 for each patient\n",
        "first_low_egfr_date = df[df['eGFR'] < 15].groupby('ID')['COLLECTED'].min()\n",
        "\n",
        "# Join the dates of first low eGFR readings to the original DataFrame\n",
        "df = df.join(first_low_egfr_date.rename('first_low_egfr_date'), on='ID')\n",
        "\n",
        "# Only keep rows where 'Date' is after the 'first_low_egfr_date'\n",
        "df_after_first_low_egfr = df[df['COLLECTED'] > df['first_low_egfr_date']]\n",
        "\n",
        "# Identify patients who have 2 or more readings on any day after their first eGFR reading < 15\n",
        "patients_on_dialysis = df_after_first_low_egfr.groupby(['ID', 'COLLECTED']).filter(lambda x: len(x) >= 2)['ID'].unique()\n",
        "\n",
        "# Filter these patients out from the original DataFrame\n",
        "df = df[~df['ID'].isin(patients_on_dialysis)]\n",
        "\n",
        "df.drop('first_low_egfr_date', axis=1, inplace=True)\n",
        "df.reset_index(inplace=True, drop=True)\n",
        "\n",
        "print(\"Total number of unique ids:\", len(df['ID'].unique()))"
      ]
    },
    {
      "cell_type": "code",
      "source": [
        "df_copy = df.copy()"
      ],
      "metadata": {
        "id": "9x4T1sBHkbJU"
      },
      "execution_count": null,
      "outputs": []
    },
    {
      "cell_type": "code",
      "execution_count": null,
      "metadata": {
        "id": "Vq5NFgQ7DHOJ"
      },
      "outputs": [],
      "source": [
        "#df_copy = df"
      ]
    },
    {
      "cell_type": "markdown",
      "metadata": {
        "id": "9JAQsgM1gFO5"
      },
      "source": [
        "## 2) Kidney Failure Criteria"
      ]
    },
    {
      "cell_type": "code",
      "execution_count": null,
      "metadata": {
        "id": "XZLU-Qf4fIii"
      },
      "outputs": [],
      "source": [
        "# Kidney failure was determined as follows: UIDs with two eGFR readings < 15 at least 30 days apart, with one eGFR reading > 15 immediately preceding these.\n",
        "# This eliminates cases where patients are already in kidney failure — only patients that progress from CKD to kidney failure are included.\n",
        "\n",
        "patient_ids = []\n",
        "\n",
        "# Loop over unique IDs in the dataframe\n",
        "for id in df['ID'].unique():\n",
        "\n",
        "    # Extract records for this patient excluding the first reading\n",
        "    patient_df = df[df['ID'] == id]\n",
        "\n",
        "    # Find instances where eGFR is less than 15\n",
        "    low_eGFR = patient_df[patient_df['eGFR'] < 15].sort_values(by='COLLECTED')\n",
        "\n",
        "    # Check if there are at least two such instances\n",
        "    if low_eGFR.shape[0] >= 2:\n",
        "\n",
        "        # Loop through the data and find if there are any two dates at least 90 days apart\n",
        "        found_90_days_apart = False\n",
        "        for date1, date2 in itertools.combinations(low_eGFR['COLLECTED'], 2):\n",
        "            time_diff = (date2 - date1).days\n",
        "\n",
        "            # If time difference is at least 90 days, set the flag to True and break\n",
        "            if time_diff >= 30: #90  #355 patients at 29 days\n",
        "                found_90_days_apart = True\n",
        "                break\n",
        "\n",
        "        if found_90_days_apart:\n",
        "            patient_ids.append(id)\n",
        "\n",
        "# Print the total number of patients\n",
        "print(f\"Total number of patients: {len(patient_ids)}\")"
      ]
    },
    {
      "cell_type": "code",
      "execution_count": null,
      "metadata": {
        "id": "Qb2t99PlTz_4"
      },
      "outputs": [],
      "source": [
        "# Filter the dataframe to only include patients of interest\n",
        "df = df[df['ID'].isin(patient_ids)]\n",
        "df.reset_index(inplace=True, drop=True)"
      ]
    },
    {
      "cell_type": "code",
      "execution_count": null,
      "metadata": {
        "id": "TuqCdXqZfiDR"
      },
      "outputs": [],
      "source": [
        "print(\"Total number of unique ids:\", len(df['ID'].unique()))\n",
        "print(f\"Total number of rows: {len(df)}\")"
      ]
    },
    {
      "cell_type": "code",
      "execution_count": null,
      "metadata": {
        "id": "0fqmeWQcrm4k"
      },
      "outputs": [],
      "source": [
        "# # Sort the DataFrame by the ID column\n",
        "# df_unique = df.drop_duplicates(subset='ID')\n",
        "# sorted_df = df_unique.sort_values('ID')\n",
        "# subset = sorted_df['ID']"
      ]
    },
    {
      "cell_type": "markdown",
      "metadata": {
        "id": "4LPcn2BNqvT8"
      },
      "source": [
        "### Further Analysis on Patient IDs with Kidney Failure"
      ]
    },
    {
      "cell_type": "code",
      "execution_count": null,
      "metadata": {
        "id": "M7PiD4FSgtUw"
      },
      "outputs": [],
      "source": [
        "# Calculate the number of records per ID\n",
        "records_per_id = df['ID'].value_counts()\n",
        "\n",
        "# Convert the Series to a DataFrame\n",
        "records_per_id_df = records_per_id.reset_index()\n",
        "\n",
        "# Rename the columns\n",
        "records_per_id_df.columns = ['ID', 'Number of Records']\n",
        "\n",
        "# Sort DataFrame by 'Number of Records' in descending order\n",
        "records_per_id_df = records_per_id_df.sort_values(by='Number of Records', ascending=False)\n",
        "\n",
        "# Display the DataFrame\n",
        "print(records_per_id_df)"
      ]
    },
    {
      "cell_type": "code",
      "source": [
        "import pandas as pd\n",
        "\n",
        "# Calculate the number of records per ID\n",
        "records_per_id = df['ID'].value_counts()\n",
        "\n",
        "# Find the bin range that contains the most IDs\n",
        "hist, bin_edges = np.histogram(records_per_id, bins=30)\n",
        "max_bin_index = np.argmax(hist)\n",
        "most_common_range = (bin_edges[max_bin_index], bin_edges[max_bin_index + 1])\n",
        "\n",
        "# Output the most common range\n",
        "print(f\"The most common range of records per ID is: {most_common_range}\")"
      ],
      "metadata": {
        "id": "7FqER4qDJPC9"
      },
      "execution_count": null,
      "outputs": []
    },
    {
      "cell_type": "code",
      "source": [
        "# Use fewer bins\n",
        "plt.hist(records_per_id, bins=40, color=\"#005589\", edgecolor='black')  # 'auto' lets matplotlib decide the optimal number of bins\n",
        "# Or specify a fixed number of bins\n",
        "# plt.hist(records_per_id, bins=10, color=\"#005589\", edgecolor='black\")  # for 10 bins\n",
        "\n",
        "# Set the title and labels\n",
        "plt.title('Distribution of Number of Records per ID')\n",
        "plt.xlabel('Number of Records per ID')\n",
        "plt.ylabel('Count of IDs')\n",
        "\n",
        "# Add horizontal grid only\n",
        "plt.grid(axis='y')\n",
        "\n",
        "# Rotate x-axis labels if there are still many bins\n",
        "plt.xticks(rotation=90)\n",
        "\n",
        "# Show the plot\n",
        "plt.show()"
      ],
      "metadata": {
        "id": "AwIABG3Kijxp"
      },
      "execution_count": null,
      "outputs": []
    },
    {
      "cell_type": "code",
      "execution_count": null,
      "metadata": {
        "id": "B4v0WqxzlMUt"
      },
      "outputs": [],
      "source": [
        "# Group by 'ID' and 'COLLECTED_DATE', and count the number of records in each group\n",
        "same_day_readings = df.groupby(['ID', 'COLLECTED']).size()\n",
        "\n",
        "# Find out which IDs had multiple readings on the same day\n",
        "multiple_same_day_readings = same_day_readings[same_day_readings > 1]\n",
        "\n",
        "# Print the result\n",
        "print(multiple_same_day_readings)"
      ]
    },
    {
      "cell_type": "code",
      "execution_count": null,
      "metadata": {
        "id": "tFAGLTfglvRE"
      },
      "outputs": [],
      "source": [
        "# Group by 'ID' and find the first 'COLLECTED_DATE' for each group\n",
        "first_reading_dates = df.groupby('ID')['COLLECTED'].min().reset_index()\n",
        "\n",
        "# Rename the columns for the join operation\n",
        "first_reading_dates.columns = ['ID', 'FIRST_READING_DATE']\n",
        "\n",
        "# Join 'multiple_same_day_readings' with 'first_reading_dates' on 'ID' and 'COLLECTED_DATE'\n",
        "AU_df = pd.merge(multiple_same_day_readings.reset_index(), first_reading_dates, how='left', left_on=['ID', 'COLLECTED'], right_on=['ID', 'FIRST_READING_DATE'])\n",
        "\n",
        "# Find out how many of the multiple-reading days were the first day of readings\n",
        "first_day_multiple_readings = AU_df[AU_df['COLLECTED'] == AU_df['FIRST_READING_DATE']]\n",
        "\n",
        "# Print the result\n",
        "print(first_day_multiple_readings)"
      ]
    },
    {
      "cell_type": "markdown",
      "metadata": {
        "id": "McF40Di2gKGN"
      },
      "source": [
        "## 3) Obtain Final Dataframe with the added Kidney Failure Target Variable"
      ]
    },
    {
      "cell_type": "code",
      "execution_count": null,
      "metadata": {
        "id": "wp4YwjICg0IC"
      },
      "outputs": [],
      "source": [
        "df = df_copy"
      ]
    },
    {
      "cell_type": "code",
      "execution_count": null,
      "metadata": {
        "id": "5aapxVm6gNQZ"
      },
      "outputs": [],
      "source": [
        "# Create a new column 'Kidney Failure'. If the patient ID is in the list, assign 1, else 0\n",
        "df['Kidney_Failure'] = df['ID'].isin(patient_ids).astype(int)\n",
        "df.reset_index(inplace=True, drop=True)\n",
        "df"
      ]
    },
    {
      "cell_type": "code",
      "source": [
        "df.sort_values(by=['ID', 'COLLECTED'], inplace=True)\n",
        "df.reset_index(inplace=True, drop=True)\n",
        "df"
      ],
      "metadata": {
        "id": "qk4ASDatsiNs"
      },
      "execution_count": null,
      "outputs": []
    },
    {
      "cell_type": "code",
      "execution_count": null,
      "metadata": {
        "id": "qOa7vpihrfkJ"
      },
      "outputs": [],
      "source": [
        "print(\"Total number of unique ids:\", len(df['ID'].unique()))\n",
        "print(f\"Total number of rows: {len(df)}\")\n",
        "print(\"Total number of unique ids with KF:\", len(df[df['Kidney_Failure']==1]['ID'].unique()))\n",
        "print(f\"Total number of rows with KF: {len(df[df['Kidney_Failure']==1])}\")"
      ]
    },
    {
      "cell_type": "code",
      "execution_count": null,
      "metadata": {
        "id": "lVoUMCjsGpnk"
      },
      "outputs": [],
      "source": [
        "# Truncate onwards for each ID where the eGFR first drops below 15.\n",
        "mask = df.groupby('ID')['eGFR'].transform(lambda x: x.ge(15).cummin())\n",
        "df = df.loc[mask]\n",
        "df.reset_index(inplace=True, drop=True)\n",
        "df"
      ]
    },
    {
      "cell_type": "code",
      "source": [
        "AU_df = df\n",
        "\n",
        "# Final checks\n",
        "\n",
        "# Convert 'COLLECTED' to datetime and sort the dataframe by 'ID' and 'COLLECTED'\n",
        "AU_df['COLLECTED'] = pd.to_datetime(AU_df['COLLECTED'])\n",
        "AU_df.sort_values(['ID', 'COLLECTED'], inplace=True)\n",
        "\n",
        "# Encode 'SEX' as 2 for female and 1 for male to match JP dataset\n",
        "AU_df['SEX'] = AU_df['SEX'].replace({'F': 2, 'M': 1})\n",
        "\n",
        "# Drop extraneous columns\n",
        "AU_df = AU_df.drop(columns=['INPATIENT/OUTPATIENT'])"
      ],
      "metadata": {
        "id": "Who94aKHtXaq"
      },
      "execution_count": null,
      "outputs": []
    },
    {
      "cell_type": "code",
      "source": [
        "print(\"Total number of unique ids:\", len(AU_df['ID'].unique()))\n",
        "print(f\"Total number of rows: {len(AU_df)}\")\n",
        "print(\"Total number of unique ids with KF:\", len(AU_df[AU_df['Kidney_Failure']==1]['ID'].unique()))\n",
        "print(f\"Total number of rows with KF: {len(AU_df[AU_df['Kidney_Failure']==1])}\")\n",
        "\n",
        "# Find unique male and female IDs\n",
        "unique_male_ids = AU_df[AU_df['SEX'] == 1]['ID'].unique()\n",
        "unique_female_ids = AU_df[AU_df['SEX'] == 2]['ID'].unique()\n",
        "\n",
        "# Count these unique IDs\n",
        "male_cases = len(unique_male_ids)\n",
        "female_cases = len(unique_female_ids)\n",
        "\n",
        "# Print the counts\n",
        "print(f\"Number of unique male cases: {male_cases}\")\n",
        "print(f\"Number of unique female cases: {female_cases}\")\n",
        "\n",
        "# Filter out the rows where Kidney_Failure is 1\n",
        "kidney_failure_df = AU_df[AU_df['Kidney_Failure'] == 1]\n",
        "\n",
        "# Find unique male and female IDs with kidney failure\n",
        "unique_male_ids = kidney_failure_df[kidney_failure_df['SEX'] == 1]['ID'].unique()\n",
        "unique_female_ids = kidney_failure_df[kidney_failure_df['SEX'] == 2]['ID'].unique()\n",
        "\n",
        "# Count these unique IDs\n",
        "male_cases = len(unique_male_ids)\n",
        "female_cases = len(unique_female_ids)\n",
        "\n",
        "# Print the counts\n",
        "print(f\"Number of unique male cases of kidney failure: {male_cases}\")\n",
        "print(f\"Number of unique female cases of kidney failure: {female_cases}\")"
      ],
      "metadata": {
        "id": "9M1Gv88Cs_YG"
      },
      "execution_count": null,
      "outputs": []
    },
    {
      "cell_type": "code",
      "source": [
        "AU_df.to_csv('/content/drive/MyDrive/CKD/Finalised/data/preprocessed/AU/AU_preprocessed_df.csv', index=False)"
      ],
      "metadata": {
        "id": "sxLDvoBMtSM6"
      },
      "execution_count": null,
      "outputs": []
    },
    {
      "cell_type": "markdown",
      "metadata": {
        "id": "7jvarnZwsCuO"
      },
      "source": [
        "# Preprocess Japanese (JP) Data"
      ]
    },
    {
      "cell_type": "markdown",
      "metadata": {
        "id": "o7xZie1iB9MB"
      },
      "source": [
        "## 1) Additional Pre-steps"
      ]
    },
    {
      "cell_type": "code",
      "execution_count": null,
      "metadata": {
        "id": "QyNjwjxv3ZUR"
      },
      "outputs": [],
      "source": [
        "df = pd.read_excel(file_path_JP_raw)\n",
        "df"
      ]
    },
    {
      "cell_type": "code",
      "execution_count": null,
      "metadata": {
        "id": "MRrBctgE3x-6"
      },
      "outputs": [],
      "source": [
        "df.dtypes"
      ]
    },
    {
      "cell_type": "code",
      "execution_count": null,
      "metadata": {
        "id": "-tUByOSPYPBq"
      },
      "outputs": [],
      "source": [
        "df.isna().sum()"
      ]
    },
    {
      "cell_type": "code",
      "source": [
        "print(\"Total number of unique ids:\", len(df['ID'].unique()))\n",
        "print(f\"Total number of rows: {len(df)}\")"
      ],
      "metadata": {
        "id": "A_-a2XAkOVsr"
      },
      "execution_count": null,
      "outputs": []
    },
    {
      "cell_type": "code",
      "execution_count": null,
      "metadata": {
        "id": "7RbNN5bC3yDD"
      },
      "outputs": [],
      "source": [
        "columns_to_flatten = ['eGFR(0M)', 'eGFR(6M)', 'eGFR(12M)', 'eGFR(18M)', 'eGFR(24M)', 'eGFR(30M)', 'eGFR(36M)', 'eGFR(last visit)']\n",
        "\n",
        "# Use melt to flatten these columns\n",
        "df_melted = pd.melt(df, id_vars=['ID', 'age', 'gender', 'Cr'], value_vars=columns_to_flatten, var_name='Time', value_name='eGFR')\n",
        "\n",
        "# Display the melted DataFrame\n",
        "df_melted"
      ]
    },
    {
      "cell_type": "code",
      "execution_count": null,
      "metadata": {
        "id": "fFUnYskZYS6L"
      },
      "outputs": [],
      "source": [
        "df_melted.isna().sum()"
      ]
    },
    {
      "cell_type": "code",
      "execution_count": null,
      "metadata": {
        "id": "LAH70y-mP97y"
      },
      "outputs": [],
      "source": [
        "import math\n",
        "\n",
        "# Update age based on time of collection\n",
        "def amend_age(row):\n",
        "    time_str = row['Time']\n",
        "    months = 0\n",
        "    if time_str == 'eGFR(6M)':\n",
        "        months = 6\n",
        "    elif time_str == 'eGFR(12M)':\n",
        "        months = 12\n",
        "    elif time_str == 'eGFR(18M)':\n",
        "        months = 18\n",
        "    elif time_str == 'eGFR(24M)':\n",
        "        months = 24\n",
        "    elif time_str == 'eGFR(30M)':\n",
        "        months = 30\n",
        "    elif time_str == 'eGFR(36M)':\n",
        "        months = 36\n",
        "    elif time_str == 'eGFR(last visit)':\n",
        "        months = 42  # Adding 42 months for 'last visit'\n",
        "\n",
        "    amended_age = row['age'] + (months / 12.0)\n",
        "\n",
        "    # Round down the amended age\n",
        "    return math.floor(amended_age)\n",
        "\n",
        "# Apply the function to the DataFrame\n",
        "df_melted['amended_age'] = df_melted.apply(amend_age, axis=1)\n",
        "df_melted"
      ]
    },
    {
      "cell_type": "code",
      "execution_count": null,
      "metadata": {
        "id": "tNIZJ8HrfWhO"
      },
      "outputs": [],
      "source": [
        "# Calculate SCr\n",
        "def calculate_SCr(row):\n",
        "    age_factor = row['amended_age'] ** -0.287\n",
        "    gender_factor = 0.739 if row['gender'] == 2 else 1  # assuming 'female' and 'male' are the gender labels\n",
        "    eGFR = row['eGFR']\n",
        "\n",
        "    SCr = ((eGFR / (194 * age_factor * gender_factor)) ** (-1 / 1.094))\n",
        "    return SCr\n",
        "\n",
        "# Apply the function to create a new column 'Calculated_SCr'\n",
        "df_melted['Calculated_SCr'] = df_melted.apply(calculate_SCr, axis=1)\n",
        "\n",
        "# Display the DataFrame to check the results\n",
        "df_melted"
      ]
    },
    {
      "cell_type": "code",
      "execution_count": null,
      "metadata": {
        "id": "OztAv-WoP99Z"
      },
      "outputs": [],
      "source": [
        "# Convert to Cr to umol/L\n",
        "\n",
        "df_melted['Cr_umol_per_L'] = df_melted['Calculated_SCr'] * 88.4\n",
        "df_melted"
      ]
    },
    {
      "cell_type": "code",
      "execution_count": null,
      "metadata": {
        "id": "2JzR3vZYP-Mg"
      },
      "outputs": [],
      "source": [
        "def calculate_eGFR_CKD_EPI(row):\n",
        "    if row['gender'] == 2:\n",
        "        if row['Cr_umol_per_L'] <= 62:\n",
        "            return 144 * ((row['Cr_umol_per_L'] * 0.0113 / 0.7) ** -0.329) * ((0.993) ** row['amended_age'])\n",
        "        else:\n",
        "            return 144 * ((row['Cr_umol_per_L'] * 0.0113 / 0.7) ** -1.209) * ((0.993) ** row['amended_age'])\n",
        "    else:  # Assuming gender is male if not female\n",
        "        if row['Cr_umol_per_L'] <= 80:\n",
        "            return 141 * ((row['Cr_umol_per_L'] * 0.0113 / 0.9) ** -0.411) * ((0.993) ** row['amended_age'])\n",
        "        else:\n",
        "            return 141 * ((row['Cr_umol_per_L'] * 0.0113 / 0.9) ** -1.209) * ((0.993) ** row['amended_age'])\n",
        "\n",
        "# Apply the function to create a new column 'eGFR_CKD_EPI'\n",
        "df_melted['eGFR_CKD_EPI'] = df_melted.apply(calculate_eGFR_CKD_EPI, axis=1)\n",
        "\n",
        "# Display the DataFrame to check the results\n",
        "df_melted"
      ]
    },
    {
      "cell_type": "code",
      "execution_count": null,
      "metadata": {
        "id": "5O545ZBFYgNr"
      },
      "outputs": [],
      "source": [
        "df_melted.isna().sum()"
      ]
    },
    {
      "cell_type": "code",
      "source": [
        "# Filter the DataFrame to only include rows where 'eGFR_CKD_EPI' is NaN\n",
        "na_eGFR_CKD_EPI_df = df_melted[df_melted['eGFR_CKD_EPI'].isna()]\n",
        "na_eGFR_CKD_EPI_df.reset_index(inplace=True, drop=True)\n",
        "na_eGFR_CKD_EPI_df"
      ],
      "metadata": {
        "id": "DdRzCJzZft6w"
      },
      "execution_count": null,
      "outputs": []
    },
    {
      "cell_type": "code",
      "source": [
        "# Drop NaN subset\n",
        "df_melted.dropna(subset=['eGFR_CKD_EPI'], inplace=True)\n",
        "df_melted.reset_index(inplace=True, drop=True)\n",
        "df"
      ],
      "metadata": {
        "id": "CN-TmfTrwc6l"
      },
      "execution_count": null,
      "outputs": []
    },
    {
      "cell_type": "code",
      "execution_count": null,
      "metadata": {
        "id": "I83FwPlW3yOF"
      },
      "outputs": [],
      "source": [
        "# Only Checking Kidney Failure Instances\n",
        "\n",
        "# Filter the DataFrame to include only rows where eGFR_CKD_EPI is less than 15\n",
        "filtered_df = df_melted[df_melted['eGFR_CKD_EPI'] < 15]\n",
        "\n",
        "# Group by gender and count the number of cases\n",
        "grouped_df = filtered_df.groupby('gender').size()\n",
        "\n",
        "# Display the count of male and female cases\n",
        "print(\"Number of male cases where eGFR_CKD_EPI < 15:\", grouped_df.get(1, 0))\n",
        "print(\"Number of female cases where eGFR_CKD_EPI < 15:\", grouped_df.get(2, 0))"
      ]
    },
    {
      "cell_type": "code",
      "source": [
        "# Drop the specified columns\n",
        "df_melted.drop(['age', 'Cr', 'eGFR', 'Calculated_SCr', 'Cr_umol_per_L'], axis=1, inplace=True)\n",
        "df_melted.reset_index(inplace=True, drop=True)\n",
        "df_melted"
      ],
      "metadata": {
        "id": "cccrgyQpvBhc"
      },
      "execution_count": null,
      "outputs": []
    },
    {
      "cell_type": "code",
      "execution_count": null,
      "metadata": {
        "id": "n-Dq48ybqKZy"
      },
      "outputs": [],
      "source": [
        "# Rename columns\n",
        "df_melted.rename(columns={\n",
        "    'amended_age': 'AGE',\n",
        "    'gender': 'SEX',\n",
        "    'eGFR_CKD_EPI': 'eGFR'\n",
        "}, inplace=True)\n",
        "\n",
        "df_melted"
      ]
    },
    {
      "cell_type": "markdown",
      "metadata": {
        "id": "eNSqWGoGpDva"
      },
      "source": [
        "## 2) Applying Inclusion Criteria (similar to AU)"
      ]
    },
    {
      "cell_type": "code",
      "execution_count": null,
      "metadata": {
        "id": "uZfc1AH0Lq-A"
      },
      "outputs": [],
      "source": [
        "df = df_melted.copy()\n",
        "df"
      ]
    },
    {
      "cell_type": "code",
      "execution_count": null,
      "metadata": {
        "id": "zjvRPUPDpDvb"
      },
      "outputs": [],
      "source": [
        "df.dtypes"
      ]
    },
    {
      "cell_type": "code",
      "execution_count": null,
      "metadata": {
        "id": "q8ZGPtzUpDvc"
      },
      "outputs": [],
      "source": [
        "print(\"Total number of unique ids:\", len(df['ID'].unique()))"
      ]
    },
    {
      "cell_type": "code",
      "execution_count": null,
      "metadata": {
        "id": "hCc_ndU8pDvc"
      },
      "outputs": [],
      "source": [
        "# Filter in Age 18 and over\n",
        "df = df[df['AGE'] >= 18]\n",
        "df.reset_index(inplace=True, drop=True)\n",
        "print(\"Total number of unique ids:\", len(df['ID'].unique()))"
      ]
    },
    {
      "cell_type": "code",
      "execution_count": null,
      "metadata": {
        "id": "xa5uoAq9pDvc"
      },
      "outputs": [],
      "source": [
        "# Sort by date\n",
        "df.sort_values('ID', inplace=True)"
      ]
    },
    {
      "cell_type": "code",
      "execution_count": null,
      "metadata": {
        "id": "tNmCGRnZpDvc"
      },
      "outputs": [],
      "source": [
        "# Filter out patients with less than 3 eGFR measurements\n",
        "df = df[df.groupby('ID').ID.transform('count') > 2]\n",
        "df.reset_index(inplace=True, drop=True)\n",
        "print(\"Total number of unique ids:\", len(df['ID'].unique()))"
      ]
    },
    {
      "cell_type": "code",
      "source": [
        "1138 - 939"
      ],
      "metadata": {
        "id": "yQ-zlHpy-Ge5"
      },
      "execution_count": null,
      "outputs": []
    },
    {
      "cell_type": "code",
      "source": [
        "# Categorical sort by time of collection\n",
        "time_order = ['eGFR(0M)', 'eGFR(6M)', 'eGFR(12M)', 'eGFR(18M)', 'eGFR(24M)', 'eGFR(30M)', 'eGFR(36M)', 'eGFR(last visit)']\n",
        "df['Time'] = pd.Categorical(df['Time'], categories=time_order, ordered=True)\n",
        "df = df.sort_values(['ID', 'Time'])\n",
        "df.reset_index(inplace=True, drop=True)\n",
        "df"
      ],
      "metadata": {
        "id": "Ocxn2SzRw5Y6"
      },
      "execution_count": null,
      "outputs": []
    },
    {
      "cell_type": "code",
      "execution_count": null,
      "metadata": {
        "id": "PEkYzKV4pDvd"
      },
      "outputs": [],
      "source": [
        "# Filter to only include first readings between 15 (patient in a dialysis) and 59\n",
        "filter_1 = df.groupby('ID')['eGFR'].apply(lambda x: 15 <= x.iloc[0] <= 59) #logic is same as (first value >=15) and (first value <=59)\n",
        "df = df[df['ID'].map(filter_1)] # Applying filter\n",
        "df.reset_index(inplace=True, drop=True)\n",
        "\n",
        "print(\"Total number of unique ids:\", len(df['ID'].unique()))\n",
        "\n",
        "grouped = df.groupby('ID')['eGFR'].first()\n",
        "print(grouped)"
      ]
    },
    {
      "cell_type": "code",
      "execution_count": null,
      "metadata": {
        "id": "HUzvADHspDvd"
      },
      "outputs": [],
      "source": [
        "print(\"Total number of unique ids:\", len(df['ID'].unique()))"
      ]
    },
    {
      "cell_type": "code",
      "execution_count": null,
      "metadata": {
        "id": "vLE5STWUpDvd"
      },
      "outputs": [],
      "source": [
        "df_copy = df.copy()"
      ]
    },
    {
      "cell_type": "code",
      "execution_count": null,
      "metadata": {
        "id": "RPwURTX-ZCIt"
      },
      "outputs": [],
      "source": [
        "# Filter the DataFrame to include only rows where eGFR_CKD_EPI is less than 15\n",
        "filtered_df = df[df['eGFR'] < 15]\n",
        "\n",
        "# Group by gender and count the number of cases\n",
        "grouped_df = filtered_df.groupby('SEX').size()\n",
        "\n",
        "# Display the count of male and female cases\n",
        "print(\"Number of male cases where eGFR_CKD_EPI < 15:\", grouped_df.get(1, 0))\n",
        "print(\"Number of female cases where eGFR_CKD_EPI < 15:\", grouped_df.get(2, 0))"
      ]
    },
    {
      "cell_type": "markdown",
      "metadata": {
        "id": "q80XWodspDve"
      },
      "source": [
        "## 3) Kidney Failure Criteria (similar to AU)"
      ]
    },
    {
      "cell_type": "code",
      "execution_count": null,
      "metadata": {
        "id": "zc9rY_f1FIMN"
      },
      "outputs": [],
      "source": [
        "patient_ids = []\n",
        "\n",
        "# Loop over unique IDs in the dataframe\n",
        "for id in df['ID'].unique():\n",
        "\n",
        "    # Extract records for this patient excluding the first reading (eGFR(0M))\n",
        "    patient_df = df[(df['ID'] == id) & (df['Time'] != 'eGFR(0M)')]\n",
        "\n",
        "    # Find instances where eGFR is less than 15\n",
        "    low_eGFR = patient_df[patient_df['eGFR'] < 15]\n",
        "\n",
        "    # Check if there are at least two such instances\n",
        "    if low_eGFR.shape[0] >= 2:\n",
        "        patient_ids.append(id)\n",
        "\n",
        "# Print the total number of patients\n",
        "print(f\"Total number of patients: {len(patient_ids)}\")"
      ]
    },
    {
      "cell_type": "code",
      "execution_count": null,
      "metadata": {
        "id": "e6Ex82XfpDve"
      },
      "outputs": [],
      "source": [
        "# Filter the dataframe to only include patients of interest\n",
        "df = df[df['ID'].isin(patient_ids)]"
      ]
    },
    {
      "cell_type": "code",
      "execution_count": null,
      "metadata": {
        "id": "zWWmQeaApDve"
      },
      "outputs": [],
      "source": [
        "print(\"Total number of unique ids:\", len(df['ID'].unique()))\n",
        "print(f\"Total number of rows: {len(df)}\")"
      ]
    },
    {
      "cell_type": "code",
      "execution_count": null,
      "metadata": {
        "id": "ErgCXfmwZV5c"
      },
      "outputs": [],
      "source": [
        "# Filter the DataFrame to include only rows where eGFR_CKD_EPI is less than 15\n",
        "filtered_df = df[df['eGFR'] < 15]\n",
        "\n",
        "# Group by gender and count the number of cases\n",
        "grouped_df = filtered_df.groupby('SEX').size()\n",
        "\n",
        "# Display the count of male and female cases\n",
        "print(\"Number of male cases where eGFR_CKD_EPI < 15:\", grouped_df.get(1, 0))\n",
        "print(\"Number of female cases where eGFR_CKD_EPI < 15:\", grouped_df.get(2, 0))"
      ]
    },
    {
      "cell_type": "markdown",
      "metadata": {
        "id": "jVUPoizjpDvf"
      },
      "source": [
        "### Further Analysis on Patient IDs with Kidney Failure"
      ]
    },
    {
      "cell_type": "code",
      "execution_count": null,
      "metadata": {
        "id": "u7Gc1GojpDvf"
      },
      "outputs": [],
      "source": [
        "# Calculate the number of records per ID\n",
        "records_per_id = df['ID'].value_counts()\n",
        "\n",
        "# Convert the Series to a DataFrame\n",
        "records_per_id_df = records_per_id.reset_index()\n",
        "\n",
        "# Rename the columns\n",
        "records_per_id_df.columns = ['ID', 'Number of Records']\n",
        "\n",
        "# Sort DataFrame by 'Number of Records' in descending order\n",
        "records_per_id_df = records_per_id_df.sort_values(by='Number of Records', ascending=False)\n",
        "\n",
        "# Display the DataFrame\n",
        "print(records_per_id_df)"
      ]
    },
    {
      "cell_type": "code",
      "source": [
        "# Use fewer bins\n",
        "plt.hist(records_per_id, bins='auto', color=\"#005589\", edgecolor='black')  # 'auto' lets matplotlib decide the optimal number of bins\n",
        "# Or specify a fixed number of bins\n",
        "# plt.hist(records_per_id, bins=10, color=\"#005589\", edgecolor='black\")  # for 10 bins\n",
        "\n",
        "# Set the title and labels\n",
        "plt.title('Distribution of Number of Records per ID')\n",
        "plt.xlabel('Number of Records per ID')\n",
        "plt.ylabel('Count of IDs')\n",
        "\n",
        "# Add horizontal grid only\n",
        "plt.grid(axis='y')\n",
        "\n",
        "# Rotate x-axis labels if there are still many bins\n",
        "plt.xticks(rotation=90)\n",
        "\n",
        "# Show the plot\n",
        "plt.show()\n"
      ],
      "metadata": {
        "id": "zt-cSalAixDG"
      },
      "execution_count": null,
      "outputs": []
    },
    {
      "cell_type": "markdown",
      "metadata": {
        "id": "6AKsau4vpDvg"
      },
      "source": [
        "## 4) Obtain Final Dataframe with the added Kidney Failure Target Variable (similar to AU)"
      ]
    },
    {
      "cell_type": "code",
      "execution_count": null,
      "metadata": {
        "id": "Ktd9QCKypDvg"
      },
      "outputs": [],
      "source": [
        "df = df_copy"
      ]
    },
    {
      "cell_type": "code",
      "execution_count": null,
      "metadata": {
        "id": "JNqZpP4bpDvh"
      },
      "outputs": [],
      "source": [
        "# Create a new column 'Kidney Failure'. If the patient ID is in the list, assign 1, else 0\n",
        "df['Kidney_Failure'] = df['ID'].isin(patient_ids).astype(int)\n",
        "df.reset_index(inplace=True, drop=True)\n",
        "df"
      ]
    },
    {
      "cell_type": "code",
      "execution_count": null,
      "metadata": {
        "id": "_RHnkhDQpDvh"
      },
      "outputs": [],
      "source": [
        "print(\"Total number of unique ids:\", len(df['ID'].unique()))\n",
        "print(f\"Total number of rows: {len(df)}\")\n",
        "print(\"Total number of unique ids with KF:\", len(df[df['Kidney_Failure']==1]['ID'].unique()))\n",
        "print(f\"Total number of rows with KF: {len(df[df['Kidney_Failure']==1])}\")"
      ]
    },
    {
      "cell_type": "code",
      "execution_count": null,
      "metadata": {
        "id": "GBeLP73ZZvfc"
      },
      "outputs": [],
      "source": [
        "# Filter out the rows where Kidney_Failure is 1\n",
        "kidney_failure_df = df[df['Kidney_Failure'] == 1]\n",
        "\n",
        "# Find unique male and female IDs with kidney failure\n",
        "unique_male_ids = kidney_failure_df[kidney_failure_df['SEX'] == 1]['ID'].unique()\n",
        "unique_female_ids = kidney_failure_df[kidney_failure_df['SEX'] == 2]['ID'].unique()\n",
        "\n",
        "# Count these unique IDs\n",
        "male_cases = len(unique_male_ids)\n",
        "female_cases = len(unique_female_ids)\n",
        "\n",
        "# Print the counts\n",
        "print(f\"Number of unique male cases of kidney failure: {male_cases}\")\n",
        "print(f\"Number of unique female cases of kidney failure: {female_cases}\")"
      ]
    },
    {
      "cell_type": "code",
      "execution_count": null,
      "metadata": {
        "id": "GSSsggxzpDvh"
      },
      "outputs": [],
      "source": [
        "#df.sort_values(by=['ID', 'COLLECTED'], inplace=True)\n",
        "df.isna().sum()"
      ]
    },
    {
      "cell_type": "code",
      "source": [
        "# Truncate onwards for each ID where the eGFR first drops below 15.\n",
        "mask = df.groupby('ID')['eGFR'].transform(lambda x: x.ge(15).cummin())\n",
        "df = df.loc[mask]\n",
        "df.reset_index(inplace=True, drop=True)\n",
        "df"
      ],
      "metadata": {
        "id": "pYgUTRDYxUOG"
      },
      "execution_count": null,
      "outputs": []
    },
    {
      "cell_type": "code",
      "execution_count": null,
      "metadata": {
        "id": "HL0NGZPwaynQ"
      },
      "outputs": [],
      "source": [
        "JP_df = df.copy()\n",
        "JP_df"
      ]
    },
    {
      "cell_type": "code",
      "execution_count": null,
      "metadata": {
        "id": "g9-cEdY0pDvi"
      },
      "outputs": [],
      "source": [
        "# STATS\n",
        "print(\"Total number of unique ids:\", len(JP_df['ID'].unique()))\n",
        "print(f\"Total number of rows: {len(JP_df)}\")\n",
        "print(\"Total number of unique ids with KF:\", len(JP_df[JP_df['Kidney_Failure']==1]['ID'].unique()))\n",
        "print(f\"Total number of rows with KF: {len(JP_df[JP_df['Kidney_Failure']==1])}\")\n",
        "\n",
        "# Find unique male and female IDs with kidney failure\n",
        "unique_male_ids = JP_df[JP_df['SEX'] == 1]['ID'].unique()\n",
        "unique_female_ids = JP_df[JP_df['SEX'] == 2]['ID'].unique()\n",
        "\n",
        "# Count these unique IDs\n",
        "male_cases = len(unique_male_ids)\n",
        "female_cases = len(unique_female_ids)\n",
        "\n",
        "# Print the counts\n",
        "print(f\"Number of unique male cases of kidney failure: {male_cases}\")\n",
        "print(f\"Number of unique female cases of kidney failure: {female_cases}\")\n",
        "\n",
        "# Filter out the rows where Kidney_Failure is 1\n",
        "kidney_failure_df = JP_df[JP_df['Kidney_Failure'] == 1]\n",
        "\n",
        "# Find unique male and female IDs with kidney failure\n",
        "unique_male_ids = kidney_failure_df[kidney_failure_df['SEX'] == 1]['ID'].unique()\n",
        "unique_female_ids = kidney_failure_df[kidney_failure_df['SEX'] == 2]['ID'].unique()\n",
        "\n",
        "# Count these unique IDs\n",
        "male_cases = len(unique_male_ids)\n",
        "female_cases = len(unique_female_ids)\n",
        "\n",
        "# Print the counts\n",
        "print(f\"Number of unique male cases of kidney failure: {male_cases}\")\n",
        "print(f\"Number of unique female cases of kidney failure: {female_cases}\")"
      ]
    },
    {
      "cell_type": "code",
      "source": [
        "# Export data\n",
        "JP_df.to_csv('/content/drive/MyDrive/CKD/Finalised/data/preprocessed/JP/JP_preprocessed_df.csv', index=False)"
      ],
      "metadata": {
        "id": "Enrsw6TywTgj"
      },
      "execution_count": null,
      "outputs": []
    },
    {
      "cell_type": "markdown",
      "source": [
        "# END"
      ],
      "metadata": {
        "id": "EmRFL-M-xiC0"
      }
    }
  ],
  "metadata": {
    "colab": {
      "toc_visible": true,
      "provenance": []
    },
    "kernelspec": {
      "display_name": "Python 3",
      "name": "python3"
    },
    "language_info": {
      "name": "python"
    }
  },
  "nbformat": 4,
  "nbformat_minor": 0
}